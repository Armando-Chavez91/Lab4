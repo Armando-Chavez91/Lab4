# Cargar datos
df = cargar_datos()

# Ver valores nulos
df.isnull().sum()

# Eliminar duplicados
df.drop_duplicates(inplace=True)

# Rellenar o eliminar valores nulos según convenga
df['Age'].fillna(df['Age'].median(), inplace=True)
df.dropna(subset=['Embarked'], inplace=True)

# Convertir columnas si es necesario
df['Sex'] = df['Sex'].astype('category')
df['Pclass'] = df['Pclass'].astype('category')

df = df[['Survived', 'Sex', 'Age', 'Pclass']]
