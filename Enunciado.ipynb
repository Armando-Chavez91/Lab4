{
 "cells": [
  {
   "cell_type": "markdown",
   "metadata": {},
   "source": [
    "# Laboratorio 4 - Titanic 🚢\n",
    "\n",
    "**Curso:** Inteligencia Artificial\n",
    "\n",
    "**Objetivo:** Aplicar técnicas de probabilidad y estadística para analizar y extraer conclusiones del dataset del Titanic.\n",
    "\n",
    "Este notebook contiene:\n",
    "- Preprocesamiento del dataset\n",
    "- Análisis estadístico\n",
    "- Gráficos con Seaborn y Matplotlib\n",
    "- Llamadas a funciones de `tarea.py`"
   ]
  },
  {
   "cell_type": "code",
   "execution_count": null,
   "metadata": {},
   "outputs": [],
   "source": [
    "# Importar librerías\n",
    "import pandas as pd\n",
    "import matplotlib.pyplot as plt\n",
    "import seaborn as sns\n",
    "import tarea  # Asegúrate de tener el archivo tarea.py en la misma carpeta"
   ]
  },
  {
   "cell_type": "markdown",
   "metadata": {},
   "source": [
    "## 1. Cargar y preprocesar datos"
   ]
  },
  {
   "cell_type": "code",
   "execution_count": null,
   "metadata": {},
   "outputs": [],
   "source": [
    "# Cargar datos\n",
    "df = tarea.cargar_datos()\n",
    "\n",
    "# Preprocesamiento básico\n",
    "df.drop_duplicates(inplace=True)\n",
    "df['Age'].fillna(df['Age'].median(), inplace=True)\n",
    "df.dropna(subset=['Embarked'], inplace=True)\n",
    "df = df[['Survived', 'Sex', 'Age', 'Pclass']]\n",
    "df.head()"
   ]
  },
  {
   "cell_type": "markdown",
   "metadata": {},
   "source": [
    "## 2. Análisis estadístico usando `tarea.py`"
   ]
  },
  {
   "cell_type": "code",
   "execution_count": null,
   "metadata": {},
   "outputs": [],
   "source": [
    "# Probabilidades básicas\n",
    "print(\"Probabilidad de sobrevivir:\", tarea.calcular_probabilidades(df))\n",
    "\n",
    "# Probabilidad condicional\n",
    "print(\"Probabilidad de sobrevivencia para mujeres:\", tarea.probabilidad_condicional(df, 'Sex', 'female'))\n",
    "\n",
    "# Medidas de tendencia central\n",
    "print(tarea.medidas_tendencia_central(df, 'Age'))\n",
    "\n",
    "# Medidas de dispersión\n",
    "print(tarea.medidas_dispersion(df, 'Age'))"
   ]
  },
  {
   "cell_type": "markdown",
   "metadata": {},
   "source": [
    "## 3. Gráficos"
   ]
  },
  {
   "cell_type": "code",
   "execution_count": null,
   "metadata": {},
   "outputs": [],
   "source": [
    "# Gráfico de barras: supervivencia por género\n",
    "sns.barplot(data=df, x='Sex', y='Survived')\n",
    "plt.title(\"Supervivencia por Género\")\n",
    "plt.show()"
   ]
  },
  {
   "cell_type": "code",
   "execution_count": null,
   "metadata": {},
   "outputs": [],
   "source": [
    "# Gráfico de barras agrupadas: clase y género\n",
    "sns.catplot(data=df, x='Pclass', y='Survived', hue='Sex', kind='bar')\n",
    "plt.title(\"Supervivencia por Clase y Género\")\n",
    "plt.show()"
   ]
  },
  {
   "cell_type": "code",
   "execution_count": null,
   "metadata": {},
   "outputs": [],
   "source": [
    "# Histograma de edad con supervivencia\n",
    "sns.histplot(data=df, x='Age', hue='Survived', kde=True, bins=30, multiple='stack')\n",
    "plt.title(\"Distribución de Edad y Supervivencia\")\n",
    "plt.show()"
   ]
  },
  {
   "cell_type": "markdown",
   "metadata": {},
   "source": [
    "## 4. Conclusiones\n",
    "- Las mujeres tuvieron una tasa de supervivencia mucho mayor que los hombres.\n",
    "- Los pasajeros de primera clase sobrevivieron más que los de tercera.\n",
    "- La edad influye parcialmente: niños pequeños tienen mayores tasas de supervivencia."
   ]
  }
 ],
 "metadata": {
  "kernelspec": {
   "display_name": "Python 3",
   "language": "python",
   "name": "python3"
  },
  "language_info": {
   "name": "python",
   "version": ""
  }
 },
 "nbformat": 4,
 "nbformat_minor": 2
}
